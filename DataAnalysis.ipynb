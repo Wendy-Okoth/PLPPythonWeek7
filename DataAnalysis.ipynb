{
 "cells": [
  {
   "cell_type": "markdown",
   "id": "6b2db4b0",
   "metadata": {},
   "source": [
    "# 📊 Assignment: Data Analysis & Visualization with Pandas & Matplotlib"
   ]
  },
  {
   "cell_type": "markdown",
   "id": "e6b2a963",
   "metadata": {},
   "source": [
    "\n",
    "## 🎯 Objectives\n",
    "- Load and analyze a dataset using **pandas** in Python  \n",
    "- Perform basic data exploration and statistical analysis  \n",
    "- Create simple plots with **matplotlib** (and seaborn for styling)  \n",
    "- Present findings and observations  \n"
   ]
  },
  {
   "cell_type": "markdown",
   "id": "9beed7cf",
   "metadata": {},
   "source": [
    "## ✅ Task 1: Load and Explore the Dataset"
   ]
  },
  {
   "cell_type": "code",
   "execution_count": null,
   "id": "219b0443",
   "metadata": {},
   "outputs": [],
   "source": [
    "\n",
    "import pandas as pd\n",
    "import matplotlib.pyplot as plt\n",
    "import seaborn as sns\n",
    "from sklearn.datasets import load_iris\n",
    "\n",
    "# Load dataset\n",
    "iris_data = load_iris()\n",
    "\n",
    "# Convert to pandas DataFrame\n",
    "df = pd.DataFrame(data=iris_data.data, columns=iris_data.feature_names)\n",
    "df[\"species\"] = pd.Categorical.from_codes(iris_data.target, iris_data.target_names)\n",
    "\n",
    "# Display first rows\n",
    "df.head()\n"
   ]
  },
  {
   "cell_type": "code",
   "execution_count": null,
   "id": "4357d76f",
   "metadata": {},
   "outputs": [],
   "source": [
    "\n",
    "# Check dataset info\n",
    "print(\"Dataset Info:\")\n",
    "print(df.info())\n",
    "\n",
    "# Check missing values\n",
    "print(\"\\nMissing Values:\")\n",
    "print(df.isnull().sum())\n"
   ]
  },
  {
   "cell_type": "markdown",
   "id": "bfd86a01",
   "metadata": {},
   "source": [
    "## ✅ Task 2: Basic Data Analysis"
   ]
  },
  {
   "cell_type": "code",
   "execution_count": null,
   "id": "b51b1fc9",
   "metadata": {},
   "outputs": [],
   "source": [
    "\n",
    "# Descriptive statistics\n",
    "df.describe()\n"
   ]
  },
  {
   "cell_type": "code",
   "execution_count": null,
   "id": "b53c20c1",
   "metadata": {},
   "outputs": [],
   "source": [
    "\n",
    "# Group by species and calculate mean\n",
    "df.groupby(\"species\").mean()\n"
   ]
  },
  {
   "cell_type": "markdown",
   "id": "de263948",
   "metadata": {},
   "source": [
    "\n",
    "**Observations:**\n",
    "- Dataset has 150 samples, 4 numerical features, and 1 categorical column (species).  \n",
    "- Setosa flowers have smaller petal sizes compared to Versicolor and Virginica.  \n",
    "- Petal length/width strongly differentiate the species.  \n"
   ]
  },
  {
   "cell_type": "markdown",
   "id": "45365e7b",
   "metadata": {},
   "source": [
    "## ✅ Task 3: Data Visualization"
   ]
  },
  {
   "cell_type": "code",
   "execution_count": null,
   "id": "c7613d50",
   "metadata": {},
   "outputs": [],
   "source": [
    "\n",
    "# 1. Line Chart\n",
    "plt.figure(figsize=(8,5))\n",
    "plt.plot(df.index, df[\"sepal length (cm)\"], label=\"Sepal Length\")\n",
    "plt.plot(df.index, df[\"petal length (cm)\"], label=\"Petal Length\")\n",
    "plt.title(\"Line Chart: Sepal vs Petal Length across Samples\")\n",
    "plt.xlabel(\"Sample Index\")\n",
    "plt.ylabel(\"Length (cm)\")\n",
    "plt.legend()\n",
    "plt.show()\n"
   ]
  },
  {
   "cell_type": "code",
   "execution_count": null,
   "id": "8cd618c4",
   "metadata": {},
   "outputs": [],
   "source": [
    "\n",
    "# 2. Bar Chart (average petal length per species)\n",
    "df.groupby(\"species\")[\"petal length (cm)\"].mean().plot(kind=\"bar\", color=[\"#4CAF50\", \"#2196F3\", \"#FF5722\"], figsize=(6,4))\n",
    "plt.title(\"Average Petal Length by Species\")\n",
    "plt.xlabel(\"Species\")\n",
    "plt.ylabel(\"Average Petal Length (cm)\")\n",
    "plt.show()\n"
   ]
  },
  {
   "cell_type": "code",
   "execution_count": null,
   "id": "5dc28a5f",
   "metadata": {},
   "outputs": [],
   "source": [
    "\n",
    "# 3. Histogram (Sepal Length)\n",
    "df[\"sepal length (cm)\"].hist(bins=20, color=\"skyblue\", edgecolor=\"black\", figsize=(6,4))\n",
    "plt.title(\"Histogram of Sepal Length\")\n",
    "plt.xlabel(\"Sepal Length (cm)\")\n",
    "plt.ylabel(\"Frequency\")\n",
    "plt.show()\n"
   ]
  },
  {
   "cell_type": "code",
   "execution_count": null,
   "id": "3da4c5af",
   "metadata": {},
   "outputs": [],
   "source": [
    "\n",
    "# 4. Scatter Plot (Sepal Length vs Petal Length)\n",
    "sns.scatterplot(data=df, x=\"sepal length (cm)\", y=\"petal length (cm)\", hue=\"species\", palette=\"deep\")\n",
    "plt.title(\"Scatter Plot: Sepal Length vs Petal Length\")\n",
    "plt.xlabel(\"Sepal Length (cm)\")\n",
    "plt.ylabel(\"Petal Length (cm)\")\n",
    "plt.legend(title=\"Species\")\n",
    "plt.show()\n"
   ]
  },
  {
   "cell_type": "markdown",
   "id": "f8103018",
   "metadata": {},
   "source": [
    "\n",
    "## 📌 Final Findings\n",
    "1. The Iris dataset is clean with no missing values.  \n",
    "2. Petal length and width are the most distinguishing features among species.  \n",
    "3. Setosa is clearly separable due to its small petals.  \n",
    "4. Versicolor and Virginica overlap, but Virginica generally has larger petals.  \n"
   ]
  }
 ],
 "metadata": {},
 "nbformat": 4,
 "nbformat_minor": 5
}